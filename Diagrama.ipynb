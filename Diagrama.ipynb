{
 "cells": [
  {
   "cell_type": "code",
   "execution_count": 6,
   "metadata": {},
   "outputs": [
    {
     "name": "stdout",
     "output_type": "stream",
     "text": [
      "Diagrama de classes criado e salvo como 'class_diagram.gv.pdf'.\n"
     ]
    }
   ],
   "source": [
    "from graphviz import Digraph\n",
    "\n",
    "# Criar um objeto Digraph para o diagrama de classes\n",
    "class_diagram = Digraph('G', filename='class_diagram.gv')\n",
    "\n",
    "# Definir classes e seus atributos/métodos\n",
    "classes = {\n",
    "    \"Cliente\": [\"- Nome\", \"- CPF\", \"- Data de Nascimento\", \"- Endereço\", \"- Telefone\", \"- Número de Habilitação\", \"+ Cadastrar()\", \"+ Alterar Dados()\", \"+ Realizar Reserva()\"],\n",
    "    \"Veículo\": [\"- Marca\", \"- Modelo\", \"- Ano\", \"- Placa\", \"- Cor\", \"- Tipo de Combustível\", \"- Valor da Diária\", \"- Seguro\", \"- Disponibilidade\", \"+ Cadastrar()\", \"+ Alterar Dados()\", \"+ Verificar Disponibilidade()\"],\n",
    "    \"Funcionário\": [\"- Nome\", \"- CPF\", \"- Cargo\", \"- Login\", \"- Senha\", \"+ Realizar Login()\", \"+ Cadastrar Cliente()\", \"+ Realizar Reserva()\", \"+ Emitir Contrato()\"],\n",
    "    \"Reserva\": [\"- Data de Início\", \"- Data de Fim\", \"- Valor Total\", \"- Status\", \"+ Confirmar()\", \"+ Cancelar()\", \"+ Consultar()\"],\n",
    "    \"Pagamento\": [\"- Forma de Pagamento\", \"- Valor\", \"- Data\", \"+ Realizar Pagamento()\"],\n",
    "    \"Manutenção\": [\"- Data\", \"- Descrição do Serviço\", \"- Valor\", \"+ Agendar()\", \"+ Acompanhar()\"],\n",
    "    \"Contrato\": [\"- Número do Contrato\", \"- Data de Emissão\", \"- Data de Vencimento\", \"- Valor Total\", \"+ Emitir()\", \"+ Consultar()\"],\n",
    "    \"Relatório\": [\"- Data\", \"- Descrição\", \"- Status\", \"+ Gerar()\", \"+ Consultar()\"]\n",
    "}\n",
    "\n",
    "# Adicionar nós para cada classe\n",
    "for class_name, attributes in classes.items():\n",
    "    class_diagram.node(class_name, label=f\"{class_name}|{'|'.join(attributes)}\", shape='record')\n",
    "\n",
    "# Definir relacionamentos entre classes\n",
    "relationships = [\n",
    "    (\"Cliente\", \"Reserva\"),\n",
    "    (\"Veículo\", \"Reserva\"),\n",
    "    (\"Funcionário\", \"Reserva\"),\n",
    "    (\"Reserva\", \"Pagamento\"),\n",
    "    (\"Reserva\", \"Contrato\"),\n",
    "    (\"Contrato\", \"Relatório\"),\n",
    "    (\"Veículo\", \"Manutenção\")\n",
    "]\n",
    "\n",
    "# Adicionar arestas para relacionamentos\n",
    "for rel in relationships:\n",
    "    class_diagram.edge(rel[0], rel[1])\n",
    "\n",
    "# Salvar o diagrama de classes\n",
    "class_diagram.render()\n",
    "\n",
    "print(\"Diagrama de classes criado e salvo como 'class_diagram.gv.pdf'.\")\n"
   ]
  },
  {
   "cell_type": "code",
   "execution_count": 7,
   "metadata": {},
   "outputs": [
    {
     "name": "stderr",
     "output_type": "stream",
     "text": [
      "Warning: using box for unknown shape actor\n"
     ]
    },
    {
     "name": "stdout",
     "output_type": "stream",
     "text": [
      "Diagrama de casos de uso criado e salvo como 'use_case_diagram.gv.pdf'.\n"
     ]
    }
   ],
   "source": [
    "from graphviz import Digraph\n",
    "\n",
    "# Criar um objeto Digraph para o diagrama de casos de uso\n",
    "use_case_diagram = Digraph('G', filename='use_case_diagram.gv')\n",
    "\n",
    "# Definir atores e casos de uso\n",
    "actors = [\"Cliente\", \"Funcionário\"]\n",
    "use_cases = {\n",
    "    \"Cliente\": [\"Realizar Reserva\", \"Realizar Pagamento\"],\n",
    "    \"Funcionário\": [\"Cadastrar Cliente\", \"Cadastrar Veículo\", \"Consultar Histórico de Locações\", \"Gerenciar Manutenção\"]\n",
    "}\n",
    "\n",
    "# Adicionar nós para atores\n",
    "for actor in actors:\n",
    "    use_case_diagram.node(actor, shape='actor')\n",
    "\n",
    "# Adicionar nós para casos de uso e conectá-los aos atores\n",
    "for actor, cases in use_cases.items():\n",
    "    for case in cases:\n",
    "        use_case_diagram.node(case, shape='ellipse')\n",
    "        use_case_diagram.edge(actor, case)\n",
    "\n",
    "# Salvar o diagrama de casos de uso\n",
    "use_case_diagram.render()\n",
    "\n",
    "print(\"Diagrama de casos de uso criado e salvo como 'use_case_diagram.gv.pdf'.\")\n"
   ]
  },
  {
   "cell_type": "markdown",
   "metadata": {},
   "source": [
    "**PIZZARIA**"
   ]
  },
  {
   "cell_type": "code",
   "execution_count": 6,
   "metadata": {},
   "outputs": [
    {
     "name": "stderr",
     "output_type": "stream",
     "text": [
      "Warning: using box for unknown shape actor\n"
     ]
    },
    {
     "data": {
      "text/plain": [
       "'diagrama_caso_uso.gv.pdf'"
      ]
     },
     "execution_count": 6,
     "metadata": {},
     "output_type": "execute_result"
    }
   ],
   "source": [
    "from graphviz import Digraph\n",
    "\n",
    "# Criação do diagrama de caso de uso\n",
    "use_case_diagram = Digraph('Diagrama de Caso de Uso', filename='diagrama_caso_uso.gv')\n",
    "\n",
    "# Definição dos atores e casos de uso\n",
    "use_case_diagram.node('Cliente', 'Cliente', shape='actor')\n",
    "use_case_diagram.node('Atendente', 'Atendente', shape='actor')\n",
    "use_case_diagram.node('Entregador', 'Entregador', shape='actor')\n",
    "\n",
    "# Pedido do Cliente\n",
    "use_case_diagram.node('EscolhaCanalPedido', 'Escolha do Canal de Pedido')\n",
    "use_case_diagram.node('SelecaoPizza', 'Seleção da Pizza')\n",
    "use_case_diagram.node('InformacoesEntrega', 'Informações de Entrega')\n",
    "\n",
    "# Recebimento do Pedido\n",
    "use_case_diagram.node('ConfirmacaoPedido', 'Confirmação do Pedido')\n",
    "use_case_diagram.node('RegistroSistema', 'Registro no Sistema')\n",
    "\n",
    "# Preparação da Pizza\n",
    "use_case_diagram.node('PreparacaoMassa', 'Preparação da Massa')\n",
    "use_case_diagram.node('AdicaoIngredientes', 'Adição de Ingredientes')\n",
    "use_case_diagram.node('Cozimento', 'Cozimento')\n",
    "\n",
    "# Finalização e Entrega\n",
    "use_case_diagram.node('Embalagem', 'Embalagem')\n",
    "use_case_diagram.node('DespachoEntrega', 'Despacho para Entrega')\n",
    "use_case_diagram.node('EntregaCliente', 'Entrega ao Cliente')\n",
    "\n",
    "# Pós-Entrega\n",
    "use_case_diagram.node('FeedbackCliente', 'Feedback do Cliente')\n",
    "use_case_diagram.node('RegistroFeedback', 'Registro de Feedback')\n",
    "\n",
    "# Definição dos relacionamentos\n",
    "use_case_diagram.edge('Cliente', 'EscolhaCanalPedido')\n",
    "use_case_diagram.edge('EscolhaCanalPedido', 'SelecaoPizza')\n",
    "use_case_diagram.edge('SelecaoPizza', 'InformacoesEntrega')\n",
    "use_case_diagram.edge('InformacoesEntrega', 'ConfirmacaoPedido')\n",
    "use_case_diagram.edge('Atendente', 'ConfirmacaoPedido')\n",
    "use_case_diagram.edge('ConfirmacaoPedido', 'RegistroSistema')\n",
    "use_case_diagram.edge('RegistroSistema', 'PreparacaoMassa')\n",
    "use_case_diagram.edge('PreparacaoMassa', 'AdicaoIngredientes')\n",
    "use_case_diagram.edge('AdicaoIngredientes', 'Cozimento')\n",
    "use_case_diagram.edge('Cozimento', 'Embalagem')\n",
    "use_case_diagram.edge('Embalagem', 'DespachoEntrega')\n",
    "use_case_diagram.edge('DespachoEntrega', 'EntregaCliente')\n",
    "use_case_diagram.edge('Entregador', 'EntregaCliente')\n",
    "use_case_diagram.edge('EntregaCliente', 'FeedbackCliente')\n",
    "use_case_diagram.edge('FeedbackCliente', 'RegistroFeedback')\n",
    "\n",
    "# Renderização do diagrama de caso de uso\n",
    "use_case_diagram.render(view=True)\n"
   ]
  },
  {
   "cell_type": "code",
   "execution_count": 7,
   "metadata": {},
   "outputs": [
    {
     "data": {
      "text/plain": [
       "'diagrama_classe.gv.pdf'"
      ]
     },
     "execution_count": 7,
     "metadata": {},
     "output_type": "execute_result"
    }
   ],
   "source": [
    "from graphviz import Digraph\n",
    "\n",
    "# Criação do diagrama de classe\n",
    "class_diagram = Digraph('Diagrama de Classe', filename='diagrama_classe.gv')\n",
    "\n",
    "# Definição das classes\n",
    "class_diagram.node('Cliente', 'Cliente')\n",
    "class_diagram.node('Pedido', 'Pedido')\n",
    "class_diagram.node('Pizza', 'Pizza')\n",
    "class_diagram.node('Cobertura', 'Cobertura')\n",
    "class_diagram.node('Pagamento', 'Pagamento')\n",
    "class_diagram.node('Funcionario', 'Funcionario')\n",
    "class_diagram.node('Entrega', 'Entrega')\n",
    "\n",
    "# Definição dos relacionamentos\n",
    "class_diagram.edge('Cliente', 'Pedido', label='faz')\n",
    "class_diagram.edge('Pedido', 'Pizza', label='contém')\n",
    "class_diagram.edge('Pizza', 'Cobertura', label='tem')\n",
    "class_diagram.edge('Pedido', 'Pagamento', label='é pago por')\n",
    "class_diagram.edge('Funcionario', 'Pedido', label='processa')\n",
    "class_diagram.edge('Pedido', 'Entrega', label='é entregue por')\n",
    "\n",
    "# Renderização do diagrama de classe\n",
    "class_diagram.render(view=True)\n"
   ]
  },
  {
   "cell_type": "code",
   "execution_count": 9,
   "metadata": {},
   "outputs": [
    {
     "name": "stdout",
     "output_type": "stream",
     "text": [
      "Diagrams have been created and saved as PNG files.\n"
     ]
    }
   ],
   "source": [
    "import graphviz\n",
    "\n",
    "# Create a Data Flow Diagram (DFD)\n",
    "dfd = graphviz.Digraph('DFD', filename='dfd_pizzaria', format='png')\n",
    "dfd.attr(rankdir='LR')\n",
    "\n",
    "# Add nodes\n",
    "dfd.node('Cliente', 'Cliente')\n",
    "dfd.node('Pedido', 'Pedido')\n",
    "dfd.node('Pizzaria', 'Pizzaria')\n",
    "dfd.node('Cozinha', 'Cozinha')\n",
    "dfd.node('Entrega', 'Entrega')\n",
    "\n",
    "# Add edges\n",
    "dfd.edge('Cliente', 'Pedido', 'Faz Pedido')\n",
    "dfd.edge('Pedido', 'Pizzaria', 'Recebe Pedido')\n",
    "dfd.edge('Pizzaria', 'Cozinha', 'Envia Pedido')\n",
    "dfd.edge('Cozinha', 'Entrega', 'Prepara Pedido')\n",
    "dfd.edge('Entrega', 'Cliente', 'Entrega Pedido')\n",
    "\n",
    "# Save the DFD diagram\n",
    "dfd.render()\n",
    "\n",
    "# Create an Entity-Relationship Diagram (ERD)\n",
    "erd = graphviz.Digraph('ERD', filename='erd_pizzaria', format='png')\n",
    "erd.attr(rankdir='LR')\n",
    "\n",
    "# Add nodes\n",
    "erd.node('Cliente', 'Cliente')\n",
    "erd.node('Pedido', 'Pedido')\n",
    "erd.node('Produto', 'Produto')\n",
    "\n",
    "# Add edges\n",
    "erd.edge('Cliente', 'Pedido', 'Faz')\n",
    "erd.edge('Pedido', 'Produto', 'Contém')\n",
    "\n",
    "# Save the ERD diagram\n",
    "erd.render()\n",
    "\n",
    "# Create a State Transition Diagram (STD)\n",
    "std = graphviz.Digraph('STD', filename='std_pizzaria', format='png')\n",
    "std.attr(rankdir='LR')\n",
    "\n",
    "# Add nodes\n",
    "std.node('Recebido', 'Pedido Recebido')\n",
    "std.node('Preparando', 'Preparando Pedido')\n",
    "std.node('Pronto', 'Pedido Pronto')\n",
    "std.node('Entregando', 'Entregando Pedido')\n",
    "std.node('Entregue', 'Pedido Entregue')\n",
    "\n",
    "# Add edges\n",
    "std.edge('Recebido', 'Preparando', 'Iniciar Preparação')\n",
    "std.edge('Preparando', 'Pronto', 'Finalizar Preparação')\n",
    "std.edge('Pronto', 'Entregando', 'Iniciar Entrega')\n",
    "std.edge('Entregando', 'Entregue', 'Finalizar Entrega')\n",
    "\n",
    "# Save the STD diagram\n",
    "std.render()\n",
    "\n",
    "print(\"Diagrams have been created and saved as PNG files.\")\n",
    "\n"
   ]
  }
 ],
 "metadata": {
  "kernelspec": {
   "display_name": "Python 3",
   "language": "python",
   "name": "python3"
  },
  "language_info": {
   "codemirror_mode": {
    "name": "ipython",
    "version": 3
   },
   "file_extension": ".py",
   "mimetype": "text/x-python",
   "name": "python",
   "nbconvert_exporter": "python",
   "pygments_lexer": "ipython3",
   "version": "3.12.5"
  }
 },
 "nbformat": 4,
 "nbformat_minor": 2
}
