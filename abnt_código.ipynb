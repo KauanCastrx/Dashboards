{
 "cells": [
  {
   "cell_type": "code",
   "execution_count": 2,
   "metadata": {},
   "outputs": [
    {
     "data": {
      "text/plain": [
       "'C:\\\\Users\\\\kauan\\\\Documents\\\\licao\\\\pesquisa_locadora_veiculos.docx'"
      ]
     },
     "execution_count": 2,
     "metadata": {},
     "output_type": "execute_result"
    }
   ],
   "source": [
    "import os\n",
    "from docx import Document\n",
    "from docx.enum.text import WD_ALIGN_PARAGRAPH\n",
    "from docx.shared import Pt\n",
    "\n",
    "# Definindo o caminho do diretório e arquivo no Windows\n",
    "caminho_diretorio = 'C:\\\\Users\\\\kauan\\\\Documents\\\\licao'\n",
    "caminho_arquivo_final = os.path.join(caminho_diretorio, 'pesquisa_locadora_veiculos.docx')\n",
    "\n",
    "# Criando o diretório se não existir\n",
    "if not os.path.exists(caminho_diretorio):\n",
    "    os.makedirs(caminho_diretorio)\n",
    "\n",
    "# Atualizando o documento com as informações adicionais do aluno, professor, disciplina e atividade\n",
    "doc_abnt_atualizado = Document()\n",
    "\n",
    "# Configurando o estilo ABNT no documento atualizado\n",
    "def configurar_estilo_abnt(documento):\n",
    "    # Configurando margens\n",
    "    sections = documento.sections\n",
    "    for section in sections:\n",
    "        section.top_margin = Pt(3 * 28.35)  # 3 cm\n",
    "        section.bottom_margin = Pt(2 * 28.35)  # 2 cm\n",
    "        section.left_margin = Pt(3 * 28.35)  # 3 cm\n",
    "        section.right_margin = Pt(2 * 28.35)  # 2 cm\n",
    "\n",
    "    # Configurando fonte e espaçamento\n",
    "    style = documento.styles['Normal']\n",
    "    font = style.font\n",
    "    font.name = 'Times New Roman'\n",
    "    font.size = Pt(12)\n",
    "\n",
    "    # Configurando espaçamento entre linhas\n",
    "    paragraph_format = style.paragraph_format\n",
    "    paragraph_format.line_spacing = 1.5\n",
    "\n",
    "configurar_estilo_abnt(doc_abnt_atualizado)\n",
    "\n",
    "# Adicionando o título e cabeçalho\n",
    "titulo = doc_abnt_atualizado.add_heading('CICLO DE VIDA DE UM WEB SERVICE', 0)\n",
    "titulo.alignment = WD_ALIGN_PARAGRAPH.CENTER\n",
    "\n",
    "# Informações do aluno, professor, disciplina e atividade\n",
    "doc_abnt_atualizado.add_paragraph(\"Aluno: Kauan Castro Moura\")\n",
    "doc_abnt_atualizado.add_paragraph(\"Professor: Adriano Michelotti Schroeder\")\n",
    "doc_abnt_atualizado.add_paragraph(\"Disciplina: MODELAGEM DE PROCESSOS DE NEGÓCIOS\")\n",
    "doc_abnt_atualizado.add_paragraph(\"Atividade: Ciclo de Vida de um Web Service\")\n",
    "\n",
    "# Adicionando a pesquisa com subtítulos em negrito\n",
    "\n",
    "# Publicação\n",
    "publicacao = doc_abnt_atualizado.add_heading('PUBLICAÇÃO', level=1)\n",
    "publicacao.bold = True\n",
    "doc_abnt_atualizado.add_paragraph(\n",
    "    \"A publicação é o processo pelo qual o fornecedor do Web Service torna o serviço disponível para outros. Isso geralmente envolve o registro do serviço em um repositório, como o UDDI (Universal Description, Discovery, and Integration). Durante a publicação, o fornecedor do serviço cria uma descrição detalhada do serviço, incluindo informações como o nome do serviço, a URL de acesso, as operações disponíveis, e os requisitos de segurança. Essa descrição é então registrada no repositório UDDI, permitindo que outros usuários e sistemas descubram e utilizem o serviço. A publicação é crucial para a visibilidade do serviço, pois sem ela, outros sistemas não saberiam da existência do serviço ou como acessá-lo.\"\n",
    ")\n",
    "\n",
    "# Descoberta\n",
    "descoberta = doc_abnt_atualizado.add_heading('DESCOBERTA', level=1)\n",
    "descoberta.bold = True\n",
    "doc_abnt_atualizado.add_paragraph(\n",
    "    \"A descoberta é o processo pelo qual uma aplicação cliente procura por Web Services disponíveis que atendam às suas necessidades. A descoberta pode ser feita através de repositórios como o UDDI, onde os serviços são catalogados e podem ser pesquisados. O cliente pode buscar serviços com base em critérios como o tipo de serviço, a localização, ou palavras-chave específicas. A descoberta permite que os clientes encontrem serviços que podem ser integrados em suas próprias aplicações, promovendo a interoperabilidade e a reutilização de serviços existentes.\"\n",
    ")\n",
    "\n",
    "# Descrição\n",
    "descricao = doc_abnt_atualizado.add_heading('DESCRIÇÃO', level=1)\n",
    "descricao.bold = True\n",
    "doc_abnt_atualizado.add_paragraph(\n",
    "    \"A descrição é o processo pelo qual o Web Service expõe sua interface e funcionalidades através de um documento WSDL (Web Services Description Language). O documento WSDL descreve os métodos disponíveis, os parâmetros que eles aceitam, os tipos de dados que retornam, e os protocolos de comunicação utilizados. Isso permite que os clientes saibam como interagir com o serviço de maneira correta e eficiente. A descrição detalhada é essencial para que os desenvolvedores de clientes possam integrar o Web Service em suas aplicações sem erros, garantindo que todas as interações sejam realizadas conforme esperado.\"\n",
    ")\n",
    "\n",
    "# Invocação\n",
    "invocacao = doc_abnt_atualizado.add_heading('INVOCAÇÃO', level=1)\n",
    "invocacao.bold = True\n",
    "doc_abnt_atualizado.add_paragraph(\n",
    "    \"A invocação é o processo pelo qual o cliente e o servidor Web Service interagem. Isso envolve o envio de mensagens de solicitação (input) e a recepção de respostas (output), geralmente utilizando o protocolo SOAP (Simple Object Access Protocol). Durante a invocação, o cliente envia uma requisição ao servidor, que processa a solicitação e retorna uma resposta apropriada. A invocação é a fase em que o serviço realmente é utilizado, permitindo que os clientes acessem as funcionalidades oferecidas pelo Web Service. É crucial que essa interação seja segura, eficiente e confiável para garantir a satisfação do usuário.\"\n",
    ")\n",
    "\n",
    "# Salvando o documento Word atualizado\n",
    "doc_abnt_atualizado.save(caminho_arquivo_final)\n",
    "\n",
    "caminho_arquivo_final\n"
   ]
  }
 ],
 "metadata": {
  "kernelspec": {
   "display_name": "Python 3",
   "language": "python",
   "name": "python3"
  },
  "language_info": {
   "codemirror_mode": {
    "name": "ipython",
    "version": 3
   },
   "file_extension": ".py",
   "mimetype": "text/x-python",
   "name": "python",
   "nbconvert_exporter": "python",
   "pygments_lexer": "ipython3",
   "version": "3.12.5"
  }
 },
 "nbformat": 4,
 "nbformat_minor": 2
}
